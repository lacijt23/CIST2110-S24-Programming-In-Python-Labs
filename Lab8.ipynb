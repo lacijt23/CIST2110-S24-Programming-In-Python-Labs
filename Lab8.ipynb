{
 "cells": [
  {
   "cell_type": "markdown",
   "metadata": {},
   "source": [
    "# Python Lists, and API's\n",
    "## Lab: 8\n",
    "\n",
    "Todays Lab will be going over python lists, tuples, and using some api's\n",
    "to get data from the internet. We will be using the requests library to\n",
    "get data from the internet. We will also be using the json library to\n",
    "parse the data we get from the internet."
   ]
  },
  {
   "cell_type": "code",
   "execution_count": 1,
   "metadata": {},
   "outputs": [
    {
     "name": "stdout",
     "output_type": "stream",
     "text": [
      "['apple', 'banana', 'cherry']\n"
     ]
    }
   ],
   "source": [
    "# Name: Laci Trull\n",
    "# Creating Lists and Tuples\n",
    "\n",
    "# Create a list named fruits with the following elements: \"apple\", \"banana\", \"cherry\".\n",
    "fruits = [\"apple\", \"banana\", \"cherry\"]\n",
    "# Create a tuple named coordinates with three numbers representing a point in 3D space.\n",
    "coordinates = (10, 25, 30)"
   ]
  },
  {
   "cell_type": "code",
   "execution_count": 79,
   "metadata": {},
   "outputs": [
    {
     "name": "stdout",
     "output_type": "stream",
     "text": [
      "banana\n",
      "30\n"
     ]
    }
   ],
   "source": [
    "# Accessing Elements\n",
    "\n",
    "# Print the second element of the fruits list.\n",
    "print(fruits[1])\n",
    "# Print the last element of the coordinates tuple.\n",
    "print(coordinates[-1])"
   ]
  },
  {
   "cell_type": "code",
   "execution_count": 80,
   "metadata": {},
   "outputs": [],
   "source": [
    "# Modifying lists\n",
    "\n",
    "# Add \"orange\" to the end of the fruits list.\n",
    "# Remmeber append is a method of the list class that adds an element to the end of the list\n",
    "fruits.append(\"orange\")\n",
    "# Insert \"blueberry\" at the beginning of the fruits list.\n",
    "fruits.insert(0, \"blueberry\")\n",
    "#  Remove \"banana\" from the fruits list.\n",
    "fruits.remove(\"banana\")\n",
    "# Change the first element of the fruits list to \"strawberry\".\n",
    "fruits[0] = \"strawberry\"\n",
    "# insert \"blueberry\" at the beginning of the fruits list again.\n",
    "fruits.insert(0, \"blueberry\")"
   ]
  },
  {
   "cell_type": "code",
   "execution_count": 81,
   "metadata": {},
   "outputs": [
    {
     "name": "stdout",
     "output_type": "stream",
     "text": [
      "['cherry', 'orange']\n"
     ]
    }
   ],
   "source": [
    "# List Slicing\n",
    "\n",
    "# Create a new list berries that contains only the \"blueberry\" and \"strawberry\" from the fruits list.\n",
    "berries = fruits[0:2]\n",
    "# Print the last two elements of the fruits list using negative indexing.\n",
    "print(fruits[-2:])"
   ]
  },
  {
   "cell_type": "code",
   "execution_count": 82,
   "metadata": {},
   "outputs": [],
   "source": [
    "# List Comprehensions\n",
    "\n",
    "# Create a new list even_fruits that contains only the fruits with an even number of characters from the fruits list.\n",
    "even_fruits = [fruit for fruit in fruits if len(fruit) % 2 == 0]\n",
    "# Create a new list upper_fruits that contains all the fruits from the fruits list in uppercase letters.\n",
    "upper_fruits = [fruit.upper() for fruit in fruits]"
   ]
  },
  {
   "cell_type": "code",
   "execution_count": 83,
   "metadata": {},
   "outputs": [],
   "source": [
    "# Tuples and immutability\n",
    "\n",
    "# Try to change the first element of the coordinates tuple to a different number and observe what happens.\n",
    "# coordinates[0] = 20 # This will raise an error because tuples are immutable.\n",
    "# Try to add a new element to the coordinates tuple and observe what happens.\n",
    "#coordinates.append(5) # This will raise an error because tuples are immutable.\n",
    "# Create a new tuple new_coordinates that is a modified version of coordinates with the first element changed.\n",
    "new_coordinates = (20, coordinates[1], coordinates[2])\n",
    "\n"
   ]
  },
  {
   "cell_type": "code",
   "execution_count": 84,
   "metadata": {},
   "outputs": [
    {
     "name": "stdout",
     "output_type": "stream",
     "text": [
      "5\n",
      "['apple', 'blueberry', 'cherry', 'orange', 'strawberry']\n"
     ]
    },
    {
     "data": {
      "text/plain": [
       "3"
      ]
     },
     "execution_count": 84,
     "metadata": {},
     "output_type": "execute_result"
    }
   ],
   "source": [
    "# Built-in Functions and Methods\n",
    "\n",
    "# Use the len() function to print the length of the fruits list.\n",
    "print(len(fruits))\n",
    "# Use the sorted() function to print a sorted version of the fruits list without changing the original list.\n",
    "print(sorted(fruits))\n",
    "# Use the list.sort() method to sort the fruits list in place.\n",
    "fruits.sort\n",
    "# Find the index of \"cherry\" in the fruits list using the list.index() method.\n",
    "fruits.index(\"cherry\")"
   ]
  },
  {
   "cell_type": "markdown",
   "metadata": {},
   "source": [
    "# Working with API's \n",
    "\n"
   ]
  },
  {
   "cell_type": "code",
   "execution_count": 85,
   "metadata": {},
   "outputs": [],
   "source": [
    "# import the requests library to get data from the internet\n",
    "# Note: you may need to install the requests library using pip\n",
    "import requests\n",
    "# import the json library to parse the data we get from the internet\n",
    "import json\n"
   ]
  },
  {
   "cell_type": "code",
   "execution_count": 86,
   "metadata": {},
   "outputs": [],
   "source": [
    "# Use the requests library to send a GET request to the JSONPlaceholder API to retrieve a list of posts. The API endpoint is https://jsonplaceholder.typicode.com/posts.\n",
    "request = requests.get(\"https://jsonplaceholder.typicode.com/posts\")\n",
    "\n"
   ]
  },
  {
   "cell_type": "code",
   "execution_count": 87,
   "metadata": {},
   "outputs": [
    {
     "name": "stdout",
     "output_type": "stream",
     "text": [
      "['sunt aut facere repellat provident occaecati excepturi optio reprehenderit', 'qui est esse', 'ea molestias quasi exercitationem repellat qui ipsa sit aut', 'eum et est occaecati', 'nesciunt quas odio', 'dolorem eum magni eos aperiam quia', 'magnam facilis autem', 'dolorem dolore est ipsam', 'nesciunt iure omnis dolorem tempora et accusantium', 'optio molestias id quia eum', 'et ea vero quia laudantium autem', 'in quibusdam tempore odit est dolorem', 'dolorum ut in voluptas mollitia et saepe quo animi', 'voluptatem eligendi optio', 'eveniet quod temporibus', 'sint suscipit perspiciatis velit dolorum rerum ipsa laboriosam odio', 'fugit voluptas sed molestias voluptatem provident', 'voluptate et itaque vero tempora molestiae', 'adipisci placeat illum aut reiciendis qui', 'doloribus ad provident suscipit at', 'asperiores ea ipsam voluptatibus modi minima quia sint', 'dolor sint quo a velit explicabo quia nam', 'maxime id vitae nihil numquam', 'autem hic labore sunt dolores incidunt', 'rem alias distinctio quo quis', 'est et quae odit qui non', 'quasi id et eos tenetur aut quo autem', 'delectus ullam et corporis nulla voluptas sequi', 'iusto eius quod necessitatibus culpa ea', 'a quo magni similique perferendis', 'ullam ut quidem id aut vel consequuntur', 'doloremque illum aliquid sunt', 'qui explicabo molestiae dolorem', 'magnam ut rerum iure', 'id nihil consequatur molestias animi provident', 'fuga nam accusamus voluptas reiciendis itaque', 'provident vel ut sit ratione est', 'explicabo et eos deleniti nostrum ab id repellendus', 'eos dolorem iste accusantium est eaque quam', 'enim quo cumque', 'non est facere', 'commodi ullam sint et excepturi error explicabo praesentium voluptas', 'eligendi iste nostrum consequuntur adipisci praesentium sit beatae perferendis', 'optio dolor molestias sit', 'ut numquam possimus omnis eius suscipit laudantium iure', 'aut quo modi neque nostrum ducimus', 'quibusdam cumque rem aut deserunt', 'ut voluptatem illum ea doloribus itaque eos', 'laborum non sunt aut ut assumenda perspiciatis voluptas', 'repellendus qui recusandae incidunt voluptates tenetur qui omnis exercitationem', 'soluta aliquam aperiam consequatur illo quis voluptas', 'qui enim et consequuntur quia animi quis voluptate quibusdam', 'ut quo aut ducimus alias', 'sit asperiores ipsam eveniet odio non quia', 'sit vel voluptatem et non libero', 'qui et at rerum necessitatibus', 'sed ab est est', 'voluptatum itaque dolores nisi et quasi', 'qui commodi dolor at maiores et quis id accusantium', 'consequatur placeat omnis quisquam quia reprehenderit fugit veritatis facere', 'voluptatem doloribus consectetur est ut ducimus', 'beatae enim quia vel', 'voluptas blanditiis repellendus animi ducimus error sapiente et suscipit', 'et fugit quas eum in in aperiam quod', 'consequatur id enim sunt et et', 'repudiandae ea animi iusto', 'aliquid eos sed fuga est maxime repellendus', 'odio quis facere architecto reiciendis optio', 'fugiat quod pariatur odit minima', 'voluptatem laborum magni', 'et iusto veniam et illum aut fuga', 'sint hic doloribus consequatur eos non id', 'consequuntur deleniti eos quia temporibus ab aliquid at', 'enim unde ratione doloribus quas enim ut sit sapiente', 'dignissimos eum dolor ut enim et delectus in', 'doloremque officiis ad et non perferendis', 'necessitatibus quasi exercitationem odio', 'quam voluptatibus rerum veritatis', 'pariatur consequatur quia magnam autem omnis non amet', 'labore in ex et explicabo corporis aut quas', 'tempora rem veritatis voluptas quo dolores vero', 'laudantium voluptate suscipit sunt enim enim', 'odit et voluptates doloribus alias odio et', 'optio ipsam molestias necessitatibus occaecati facilis veritatis dolores aut', 'dolore veritatis porro provident adipisci blanditiis et sunt', 'placeat quia et porro iste', 'nostrum quis quasi placeat', 'sapiente omnis fugit eos', 'sint soluta et vel magnam aut ut sed qui', 'ad iusto omnis odit dolor voluptatibus', 'aut amet sed', 'ratione ex tenetur perferendis', 'beatae soluta recusandae', 'qui qui voluptates illo iste minima', 'id minus libero illum nam ad officiis', 'quaerat velit veniam amet cupiditate aut numquam ut sequi', 'quas fugiat ut perspiciatis vero provident', 'laboriosam dolor voluptates', 'temporibus sit alias delectus eligendi possimus magni', 'at nam consequatur ea labore ea harum']\n"
     ]
    }
   ],
   "source": [
    "# Parse the JSON response and store it in a variable posts.\n",
    "# Note: We did not learn about JSON yet (This will be taught in more depth in our lesson on Dictionaries for now just think of it as a way to represent data.)\n",
    "posts = json.loads(request.text)\n",
    "\n",
    "#  Print the title of the first post in the posts list.\n",
    "posts[0][\"title\"]\n",
    "# Create a list post_titles that contains the titles of all the posts.\n",
    "posts_titles = [post[\"title\"] for post in posts]\n",
    " \n",
    "print(posts_titles)\n"
   ]
  },
  {
   "cell_type": "code",
   "execution_count": 88,
   "metadata": {},
   "outputs": [
    {
     "name": "stdout",
     "output_type": "stream",
     "text": [
      "repellendus qui recusandae incidunt voluptates tenetur qui omnis exercitationem\n",
      "['sunt aut facere repellat provident occaecati excepturi optio reprehenderit', 'qui est esse', 'ea molestias quasi exercitationem repellat qui ipsa sit aut', 'eum et est occaecati', 'nesciunt quas odio']\n"
     ]
    }
   ],
   "source": [
    "# Find the post with the longest title and print its title and body. Call the variable longest_post. No LAMBDA functions allowed.\n",
    "longest_post = posts[0]\n",
    "for post in posts:\n",
    "    if len(post[\"title\"]) > len(longest_post[\"title\"]):\n",
    "        longest_post = post\n",
    "# print(\"Current longest post\", longest_post[\"id\"])\n",
    "# print(\"New Longest Post\" longest_post[\"title\"])\n",
    "print(longest_post[\"title\"])\n",
    "# Note: Copilot might try to fill in a lambda function for this task. Try to solve it without using a lambda function.\n",
    "\n",
    "\n",
    "\n",
    "# Print the titles of the first 5 posts using slicing. \n",
    "print(posts_titles[:5])"
   ]
  },
  {
   "cell_type": "code",
   "execution_count": 89,
   "metadata": {},
   "outputs": [],
   "source": [
    "# Create a tuple post_info that contains the userId, title, and body of the fifth post in the list.\n",
    "post_info = (posts[4][\"userId\"], posts[4][\"title\"], posts[4][\"body\"])\n"
   ]
  }
 ],
 "metadata": {
  "kernelspec": {
   "display_name": "venv",
   "language": "python",
   "name": "python3"
  },
  "language_info": {
   "codemirror_mode": {
    "name": "ipython",
    "version": 3
   },
   "file_extension": ".py",
   "mimetype": "text/x-python",
   "name": "python",
   "nbconvert_exporter": "python",
   "pygments_lexer": "ipython3",
   "version": "3.12.1"
  }
 },
 "nbformat": 4,
 "nbformat_minor": 2
}
